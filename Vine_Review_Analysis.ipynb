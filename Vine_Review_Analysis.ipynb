{
  "nbformat": 4,
  "nbformat_minor": 0,
  "metadata": {
    "colab": {
      "name": "Vine_Review_Analysis.ipynb",
      "provenance": [],
      "collapsed_sections": []
    },
    "kernelspec": {
      "name": "python3",
      "display_name": "Python 3"
    }
  },
  "cells": [
    {
      "cell_type": "code",
      "metadata": {
        "id": "OKLhSrvA_F7y",
        "outputId": "babce815-f27d-4232-9d7a-0dcb08b8d206",
        "colab": {
          "base_uri": "https://localhost:8080/"
        }
      },
      "source": [
        "import os\n",
        "# Find the latest version of spark 2.0  from http://www-us.apache.org/dist/spark/ and enter as the spark version\n",
        "# For example:\n",
        "# spark_version = 'spark-3.0.1'\n",
        "spark_version = 'spark-3.0.1'\n",
        "os.environ['SPARK_VERSION']=spark_version\n",
        "\n",
        "# Install Spark and Java\n",
        "!apt-get update\n",
        "!apt-get install openjdk-11-jdk-headless -qq > /dev/null\n",
        "!wget -q http://www-us.apache.org/dist/spark/$SPARK_VERSION/$SPARK_VERSION-bin-hadoop2.7.tgz\n",
        "!tar xf $SPARK_VERSION-bin-hadoop2.7.tgz\n",
        "!pip install -q findspark\n",
        "\n",
        "# Set Environment Variables\n",
        "import os\n",
        "os.environ[\"JAVA_HOME\"] = \"/usr/lib/jvm/java-11-openjdk-amd64\"\n",
        "os.environ[\"SPARK_HOME\"] = f\"/content/{spark_version}-bin-hadoop2.7\"\n",
        "\n",
        "# Start a SparkSession\n",
        "import findspark\n",
        "findspark.init()"
      ],
      "execution_count": 2,
      "outputs": [
        {
          "output_type": "stream",
          "text": [
            "\r0% [Working]\r            \rGet:1 https://cloud.r-project.org/bin/linux/ubuntu bionic-cran40/ InRelease [3,626 B]\n",
            "\r0% [Connecting to archive.ubuntu.com (91.189.88.142)] [Waiting for headers] [1 \r0% [Connecting to archive.ubuntu.com (91.189.88.142)] [Waiting for headers] [Wa\r                                                                               \rIgn:2 https://developer.download.nvidia.com/compute/cuda/repos/ubuntu1804/x86_64  InRelease\n",
            "\r0% [Connecting to archive.ubuntu.com (91.189.88.142)] [Waiting for headers] [Wa\r0% [1 InRelease gpgv 3,626 B] [Connecting to archive.ubuntu.com (91.189.88.142)\r                                                                               \rGet:3 http://security.ubuntu.com/ubuntu bionic-security InRelease [88.7 kB]\n",
            "Get:4 http://ppa.launchpad.net/c2d4u.team/c2d4u4.0+/ubuntu bionic InRelease [15.9 kB]\n",
            "Ign:5 https://developer.download.nvidia.com/compute/machine-learning/repos/ubuntu1804/x86_64  InRelease\n",
            "Get:6 https://developer.download.nvidia.com/compute/cuda/repos/ubuntu1804/x86_64  Release [697 B]\n",
            "Hit:7 https://developer.download.nvidia.com/compute/machine-learning/repos/ubuntu1804/x86_64  Release\n",
            "Get:8 https://developer.download.nvidia.com/compute/cuda/repos/ubuntu1804/x86_64  Release.gpg [836 B]\n",
            "Hit:9 http://archive.ubuntu.com/ubuntu bionic InRelease\n",
            "Get:10 http://archive.ubuntu.com/ubuntu bionic-updates InRelease [88.7 kB]\n",
            "Hit:11 http://ppa.launchpad.net/graphics-drivers/ppa/ubuntu bionic InRelease\n",
            "Get:12 https://cloud.r-project.org/bin/linux/ubuntu bionic-cran40/ Packages [40.1 kB]\n",
            "Get:14 http://archive.ubuntu.com/ubuntu bionic-backports InRelease [74.6 kB]\n",
            "Ign:15 https://developer.download.nvidia.com/compute/cuda/repos/ubuntu1804/x86_64  Packages\n",
            "Get:15 https://developer.download.nvidia.com/compute/cuda/repos/ubuntu1804/x86_64  Packages [405 kB]\n",
            "Get:16 http://ppa.launchpad.net/c2d4u.team/c2d4u4.0+/ubuntu bionic/main Sources [1,687 kB]\n",
            "Get:17 http://security.ubuntu.com/ubuntu bionic-security/main amd64 Packages [1,748 kB]\n",
            "Get:18 http://archive.ubuntu.com/ubuntu bionic-updates/universe amd64 Packages [2,118 kB]\n",
            "Get:19 http://security.ubuntu.com/ubuntu bionic-security/universe amd64 Packages [1,353 kB]\n",
            "Get:20 http://ppa.launchpad.net/c2d4u.team/c2d4u4.0+/ubuntu bionic/main amd64 Packages [863 kB]\n",
            "Get:21 http://archive.ubuntu.com/ubuntu bionic-updates/main amd64 Packages [2,165 kB]\n",
            "Fetched 10.7 MB in 3s (3,676 kB/s)\n",
            "Reading package lists... Done\n"
          ],
          "name": "stdout"
        }
      ]
    },
    {
      "cell_type": "code",
      "metadata": {
        "id": "qUhyZnKo_QWk"
      },
      "source": [
        "# Start a new session\n",
        "from pyspark.sql import SparkSession\n",
        "spark = SparkSession.builder.appName(\"BigData-Challenge\").config(\"spark.driver.extraClassPath\",\"/content/postgresql-42.2.16.jar\").getOrCreate()"
      ],
      "execution_count": 3,
      "outputs": []
    },
    {
      "cell_type": "code",
      "metadata": {
        "id": "7UDxxt-X_zSs"
      },
      "source": [
        "# Import your data from S3\n",
        "from pyspark import SparkFiles\n",
        "url = \"https://s3.amazonaws.com/amazon-reviews-pds/tsv/amazon_reviews_us_Video_DVD_v1_00.tsv.gz\"\n",
        "spark.sparkContext.addFile(url)\n",
        "df = spark.read.option(\"encoding\", \"UTF-8\").csv(SparkFiles.get(\"amazon_reviews_us_Video_DVD_v1_00.tsv.gz\"), sep=\"\\t\", header=True, inferSchema=True)"
      ],
      "execution_count": 4,
      "outputs": []
    },
    {
      "cell_type": "code",
      "metadata": {
        "id": "DuHly_FT_Qdz",
        "outputId": "cb543d67-8952-4955-c3ac-bc8700aa2816",
        "colab": {
          "base_uri": "https://localhost:8080/"
        }
      },
      "source": [
        "# Recreate the vine_df dataframe\n",
        "vine_df = df.select(['review_id', 'star_rating', 'helpful_votes', 'total_votes', 'vine', 'verified_purchase'])\n",
        "vine_df.show(5)"
      ],
      "execution_count": 5,
      "outputs": [
        {
          "output_type": "stream",
          "text": [
            "+--------------+-----------+-------------+-----------+----+-----------------+\n",
            "|     review_id|star_rating|helpful_votes|total_votes|vine|verified_purchase|\n",
            "+--------------+-----------+-------------+-----------+----+-----------------+\n",
            "| R33UPQQUZQEM8|          5|            3|          3|   N|                Y|\n",
            "|R3IKTNQQPD9662|          5|            0|          0|   N|                Y|\n",
            "|R3U27V5QMCP27T|          5|            1|          1|   N|                Y|\n",
            "|R2TOH2QKNK4IOC|          5|            0|          1|   N|                Y|\n",
            "|R2XQG5NJ59UFMY|          5|            0|          0|   N|                Y|\n",
            "+--------------+-----------+-------------+-----------+----+-----------------+\n",
            "only showing top 5 rows\n",
            "\n"
          ],
          "name": "stdout"
        }
      ]
    },
    {
      "cell_type": "code",
      "metadata": {
        "id": "PD5WA5-h_QZc",
        "outputId": "4cf5b8ad-da68-4210-bc4a-525c3f8fd674",
        "colab": {
          "base_uri": "https://localhost:8080/"
        }
      },
      "source": [
        "# Filter out any rows that had less than 20 total votes\n",
        "vine_filter = vine_df.filter(vine_df.total_votes >= '20')\n",
        "vine_filter.sort(['total_votes']).show(5)"
      ],
      "execution_count": 6,
      "outputs": [
        {
          "output_type": "stream",
          "text": [
            "+--------------+-----------+-------------+-----------+----+-----------------+\n",
            "|     review_id|star_rating|helpful_votes|total_votes|vine|verified_purchase|\n",
            "+--------------+-----------+-------------+-----------+----+-----------------+\n",
            "|R25L560LHPHE2F|          1|           15|         20|   N|                N|\n",
            "| RTIJFEYV3NIAT|          5|           15|         20|   N|                Y|\n",
            "|R1WCLX1DYWRF6I|          1|           19|         20|   N|                Y|\n",
            "|R2QQJIJZIUSQBH|          1|           16|         20|   N|                N|\n",
            "|R18ZPPQ2CZKG41|          5|           16|         20|   N|                N|\n",
            "+--------------+-----------+-------------+-----------+----+-----------------+\n",
            "only showing top 5 rows\n",
            "\n"
          ],
          "name": "stdout"
        }
      ]
    },
    {
      "cell_type": "code",
      "metadata": {
        "id": "xI_r6eTK_QWD",
        "outputId": "fadd64fa-ce40-4ead-851b-3365030c83fc",
        "colab": {
          "base_uri": "https://localhost:8080/"
        }
      },
      "source": [
        "# Filter out any rows that had less thatn 50% of their total votes identified as helpful\n",
        "vine_filter_2 = vine_filter.withColumn('helpful_rate', vine_filter['helpful_votes']/vine_filter['total_votes'])\n",
        "vine_filter_help = vine_filter_2.filter(vine_filter_2.helpful_rate >= '.50').sort(['helpful_rate'], ascending=True)\n",
        "vine_filter_help.show(5)"
      ],
      "execution_count": 7,
      "outputs": [
        {
          "output_type": "stream",
          "text": [
            "+--------------+-----------+-------------+-----------+----+-----------------+------------+\n",
            "|     review_id|star_rating|helpful_votes|total_votes|vine|verified_purchase|helpful_rate|\n",
            "+--------------+-----------+-------------+-----------+----+-----------------+------------+\n",
            "|R1L3VZLFY0Y0G5|          1|           11|         22|   N|                N|         0.5|\n",
            "| R1ELR2Y33KD34|          3|           10|         20|   N|                N|         0.5|\n",
            "|R241G74TIONA2K|          3|           17|         34|   N|                N|         0.5|\n",
            "|R1WMQ595AF6N7M|          2|           10|         20|   N|                Y|         0.5|\n",
            "|R1JOOLO8GN74AK|          1|           17|         34|   N|                Y|         0.5|\n",
            "+--------------+-----------+-------------+-----------+----+-----------------+------------+\n",
            "only showing top 5 rows\n",
            "\n"
          ],
          "name": "stdout"
        }
      ]
    },
    {
      "cell_type": "code",
      "metadata": {
        "id": "aCpt0VM_eRBm",
        "outputId": "f740f169-a1cd-40bb-87ca-2a2f7ed94e77",
        "colab": {
          "base_uri": "https://localhost:8080/"
        }
      },
      "source": [
        "# Create a dataframe that filters out the rows that were not paid vine subscribers\n",
        "vine_filter_paid = vine_filter_help.filter(vine_filter_help.vine == 'Y')\n",
        "vine_filter_paid.show(5)"
      ],
      "execution_count": 8,
      "outputs": [
        {
          "output_type": "stream",
          "text": [
            "+--------------+-----------+-------------+-----------+----+-----------------+------------------+\n",
            "|     review_id|star_rating|helpful_votes|total_votes|vine|verified_purchase|      helpful_rate|\n",
            "+--------------+-----------+-------------+-----------+----+-----------------+------------------+\n",
            "|R2Y8EYZCTO7W1X|          3|           11|         22|   Y|                N|               0.5|\n",
            "|R1F8T2Z7U3N6HL|          3|           11|         20|   Y|                N|              0.55|\n",
            "|R1QFLL874C1LYW|          1|           15|         27|   Y|                N|0.5555555555555556|\n",
            "| R9PY1FWPZ7CFJ|          2|           13|         22|   Y|                N|0.5909090909090909|\n",
            "|R160Z7M8HOM75I|          2|           13|         20|   Y|                N|              0.65|\n",
            "+--------------+-----------+-------------+-----------+----+-----------------+------------------+\n",
            "only showing top 5 rows\n",
            "\n"
          ],
          "name": "stdout"
        }
      ]
    },
    {
      "cell_type": "code",
      "metadata": {
        "id": "tSGg1pvWkPVx",
        "outputId": "25237400-0872-4da9-967b-0ff9c8b65faa",
        "colab": {
          "base_uri": "https://localhost:8080/"
        }
      },
      "source": [
        "# Create a complimentary dataframe that filters out, instead, all of the rows that were part of the paid subscription\n",
        "vine_filter_unpaid = vine_filter_help.filter(vine_filter_help.vine == 'N')\n",
        "vine_filter_unpaid.show(5)"
      ],
      "execution_count": 9,
      "outputs": [
        {
          "output_type": "stream",
          "text": [
            "+--------------+-----------+-------------+-----------+----+-----------------+------------+\n",
            "|     review_id|star_rating|helpful_votes|total_votes|vine|verified_purchase|helpful_rate|\n",
            "+--------------+-----------+-------------+-----------+----+-----------------+------------+\n",
            "|R1L3VZLFY0Y0G5|          1|           11|         22|   N|                N|         0.5|\n",
            "| R1ELR2Y33KD34|          3|           10|         20|   N|                N|         0.5|\n",
            "|R241G74TIONA2K|          3|           17|         34|   N|                N|         0.5|\n",
            "|R1WMQ595AF6N7M|          2|           10|         20|   N|                Y|         0.5|\n",
            "|R1JOOLO8GN74AK|          1|           17|         34|   N|                Y|         0.5|\n",
            "+--------------+-----------+-------------+-----------+----+-----------------+------------+\n",
            "only showing top 5 rows\n",
            "\n"
          ],
          "name": "stdout"
        }
      ]
    },
    {
      "cell_type": "code",
      "metadata": {
        "id": "p1VJ_boLkzZj",
        "outputId": "3e25dd9d-e343-4058-ac54-95f654424b28",
        "colab": {
          "base_uri": "https://localhost:8080/"
        }
      },
      "source": [
        "# Import sql function count\n",
        "from pyspark.sql.functions import count\n",
        "\n",
        "# Identify the number of star ratings for each of the five star types for both the paid and unpaid filtered dataframes \n",
        "total_star_paid = vine_filter_paid.groupby(\"star_rating\").agg(count(\"star_rating\").alias(\"count(star_rating)\")).withColumnRenamed(\"count(star_rating)\", \"total_star_reviews_paid\").sort(['star_rating'], ascending=True)\n",
        "total_star_paid.show()\n",
        "\n",
        "total_star_unpaid = vine_filter_unpaid.groupby(\"star_rating\").agg(count(\"star_rating\").alias(\"count(star_rating)\")).withColumnRenamed(\"count(star_rating)\", \"total_star_reviews_unpaid\").sort(['star_rating'], ascending=True)\n",
        "total_star_unpaid.show()"
      ],
      "execution_count": 27,
      "outputs": [
        {
          "output_type": "stream",
          "text": [
            "+-----------+-----------------------+\n",
            "|star_rating|total_star_reviews_paid|\n",
            "+-----------+-----------------------+\n",
            "|          1|                      3|\n",
            "|          2|                      6|\n",
            "|          3|                     17|\n",
            "|          4|                     14|\n",
            "|          5|                      9|\n",
            "+-----------+-----------------------+\n",
            "\n",
            "+-----------+-------------------------+\n",
            "|star_rating|total_star_reviews_unpaid|\n",
            "+-----------+-------------------------+\n",
            "|          1|                    24624|\n",
            "|          2|                     9489|\n",
            "|          3|                    13862|\n",
            "|          4|                    25364|\n",
            "|          5|                    78061|\n",
            "+-----------+-------------------------+\n",
            "\n"
          ],
          "name": "stdout"
        }
      ]
    },
    {
      "cell_type": "code",
      "metadata": {
        "id": "w4s5pQZq7qen"
      },
      "source": [
        "# Identify the total number of paid and unpaid responses for the filtered dataframes\n",
        "total_paid = vine_filter_paid.count()\n",
        "total_unpaid = vine_filter_unpaid.count()"
      ],
      "execution_count": 28,
      "outputs": []
    },
    {
      "cell_type": "code",
      "metadata": {
        "id": "o8Aa4xCfBv04",
        "outputId": "125a05c6-45d2-4cce-af78-fc6e74990ff6",
        "colab": {
          "base_uri": "https://localhost:8080/"
        }
      },
      "source": [
        "# Create a new column that shows what percentage of the total responses for that filtered dataframes each of the five star ratings received\n",
        "percent_paid = total_star_paid.withColumn('percent_of_total_paid',(total_star_paid['total_star_reviews_paid'] / total_paid) * 100)\n",
        "percent_paid.show()\n",
        "\n",
        "percent_unpaid = total_star_unpaid.withColumn('percent_of_total_unpaid',(total_star_unpaid['total_star_reviews_unpaid'] / total_unpaid) * 100)\n",
        "percent_unpaid.show()"
      ],
      "execution_count": 29,
      "outputs": [
        {
          "output_type": "stream",
          "text": [
            "+-----------+-----------------------+---------------------+\n",
            "|star_rating|total_star_reviews_paid|percent_of_total_paid|\n",
            "+-----------+-----------------------+---------------------+\n",
            "|          1|                      3|    6.122448979591836|\n",
            "|          2|                      6|   12.244897959183673|\n",
            "|          3|                     17|    34.69387755102041|\n",
            "|          4|                     14|    28.57142857142857|\n",
            "|          5|                      9|   18.367346938775512|\n",
            "+-----------+-----------------------+---------------------+\n",
            "\n",
            "+-----------+-------------------------+-----------------------+\n",
            "|star_rating|total_star_reviews_unpaid|percent_of_total_unpaid|\n",
            "+-----------+-------------------------+-----------------------+\n",
            "|          1|                    24624|      16.26420079260238|\n",
            "|          2|                     9489|      6.267503302509908|\n",
            "|          3|                    13862|      9.155878467635404|\n",
            "|          4|                    25364|     16.752972258916778|\n",
            "|          5|                    78061|      51.55944517833554|\n",
            "+-----------+-------------------------+-----------------------+\n",
            "\n"
          ],
          "name": "stdout"
        }
      ]
    },
    {
      "cell_type": "code",
      "metadata": {
        "id": "ac_b542w73Yr",
        "outputId": "78a05b97-0016-4cb9-ecf0-f7d66ac3e769",
        "colab": {
          "base_uri": "https://localhost:8080/"
        }
      },
      "source": [
        "# Filter our all of the other percentages to show specifically how many responses and what percentage the \n",
        "# five star ratings received for each of the two filtered dataframes\n",
        "percent_five_paid = percent_paid.filter(percent_paid.star_rating == '5')\n",
        "percent_five_paid.show()\n",
        "\n",
        "percent_five_unpaid = percent_unpaid.filter(percent_unpaid.star_rating == '5')\n",
        "percent_five_unpaid.show()\n"
      ],
      "execution_count": 30,
      "outputs": [
        {
          "output_type": "stream",
          "text": [
            "+-----------+-----------------------+---------------------+\n",
            "|star_rating|total_star_reviews_paid|percent_of_total_paid|\n",
            "+-----------+-----------------------+---------------------+\n",
            "|          5|                      9|   18.367346938775512|\n",
            "+-----------+-----------------------+---------------------+\n",
            "\n",
            "+-----------+-------------------------+-----------------------+\n",
            "|star_rating|total_star_reviews_unpaid|percent_of_total_unpaid|\n",
            "+-----------+-------------------------+-----------------------+\n",
            "|          5|                    78061|      51.55944517833554|\n",
            "+-----------+-------------------------+-----------------------+\n",
            "\n"
          ],
          "name": "stdout"
        }
      ]
    }
  ]
}